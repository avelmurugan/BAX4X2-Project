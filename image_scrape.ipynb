{
 "cells": [
  {
   "cell_type": "code",
   "execution_count": 1,
   "id": "c01cc13d",
   "metadata": {},
   "outputs": [],
   "source": [
    "#import libraries\n",
    "from bs4 import BeautifulSoup\n",
    "from urllib.request import Request, urlopen\n",
    "import requests\n",
    "import re\n",
    "import numpy as np\n",
    "import pandas as pd\n",
    "import time\n",
    "from selenium.webdriver.common.by import By\n",
    "from selenium import webdriver\n",
    "import codecs\n",
    "import os\n",
    "from selenium.webdriver.support.ui import WebDriverWait\n",
    "from pymongo import MongoClient\n",
    "from selenium.webdriver.support import expected_conditions\n",
    "import http.client, urllib.parse"
   ]
  },
  {
   "cell_type": "code",
   "execution_count": 2,
   "id": "087a19a1",
   "metadata": {},
   "outputs": [],
   "source": [
    "mo_c = MongoClient()\n",
    "client = MongoClient('localhost', 27017)\n",
    "#Access craigslist db\n",
    "db = client[\"craigslist_cars\"]\n",
    "#set collections\n",
    "collection_sf=db[\"bay_area\"]\n",
    "collection_sd=db['sd']\n",
    "collection_la=db['los_angeles']"
   ]
  },
  {
   "cell_type": "code",
   "execution_count": 3,
   "id": "4e328650",
   "metadata": {},
   "outputs": [],
   "source": [
    "def image_scrape(collection):\n",
    "    #loop through collection brand and img_url\n",
    "    for i in collection.find({},{'brand':1,'img_url':1}):\n",
    "        #try and except statement\n",
    "        try:\n",
    "            #change chevy to chevrolet\n",
    "            if i['brand']=='chevy':\n",
    "                brand='chevrolet'\n",
    "            #change vw to volkswagen\n",
    "            elif i['brand']=='vw':\n",
    "                brand='volkswagen'\n",
    "            #otherwise set brand=value we got from Craigslist\n",
    "            else:\n",
    "                brand=str(i['brand'])\n",
    "            #set file path\n",
    "            path='images/'+brand+'/'+brand+str(i['_id'])+'.jpg'\n",
    "            #get image url\n",
    "            img_url=i['img_url']\n",
    "            #get image data\n",
    "            img_data = requests.get(img_url).content\n",
    "            #read it to a file\n",
    "            with open(path, 'wb') as handler: \n",
    "                   handler.write(img_data)\n",
    "            #print image path to verify it worked\n",
    "            print(path)\n",
    "            #sleep system for 2 seconds\n",
    "            time.sleep(2)\n",
    "        #add except statement\n",
    "        except:\n",
    "            pass"
   ]
  },
  {
   "cell_type": "code",
   "execution_count": null,
   "id": "926236f6",
   "metadata": {},
   "outputs": [],
   "source": [
    "image_scrape(collection_la)"
   ]
  },
  {
   "cell_type": "code",
   "execution_count": null,
   "id": "015f31c5",
   "metadata": {},
   "outputs": [],
   "source": []
  }
 ],
 "metadata": {
  "kernelspec": {
   "display_name": "Python 3 (ipykernel)",
   "language": "python",
   "name": "python3"
  },
  "language_info": {
   "codemirror_mode": {
    "name": "ipython",
    "version": 3
   },
   "file_extension": ".py",
   "mimetype": "text/x-python",
   "name": "python",
   "nbconvert_exporter": "python",
   "pygments_lexer": "ipython3",
   "version": "3.9.1"
  }
 },
 "nbformat": 4,
 "nbformat_minor": 5
}
